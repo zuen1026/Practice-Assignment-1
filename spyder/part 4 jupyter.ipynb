{
 "cells": [
  {
   "cell_type": "markdown",
   "id": "f9b0904f-e3cd-4aa5-9454-8f14c1813b03",
   "metadata": {},
   "source": [
    "## This is **integers 1 to 10**"
   ]
  },
  {
   "cell_type": "code",
   "execution_count": 13,
   "id": "97dd4487-9809-4952-a3bd-cfbbf692de65",
   "metadata": {},
   "outputs": [
    {
     "name": "stdout",
     "output_type": "stream",
     "text": [
      "1\n",
      "2\n",
      "3\n",
      "4\n",
      "5\n",
      "6\n",
      "7\n",
      "8\n",
      "9\n",
      "10\n"
     ]
    }
   ],
   "source": [
    "# Print integers from 1 to 10\n",
    "for i in range(1, 11):  # Generates numbers from 1 to 10\n",
    "    print(i)\n"
   ]
  },
  {
   "cell_type": "code",
   "execution_count": null,
   "id": "0d6b62cd-261c-478f-a9da-83370f3504f7",
   "metadata": {},
   "outputs": [],
   "source": []
  },
  {
   "cell_type": "code",
   "execution_count": null,
   "id": "1a012fdc-9315-4f6d-ad21-a91295e77012",
   "metadata": {},
   "outputs": [],
   "source": []
  },
  {
   "cell_type": "code",
   "execution_count": null,
   "id": "00cf1d64-0edd-4092-a9f7-60219db359ce",
   "metadata": {},
   "outputs": [],
   "source": []
  }
 ],
 "metadata": {
  "kernelspec": {
   "display_name": "Python 3 (ipykernel)",
   "language": "python",
   "name": "python3"
  },
  "language_info": {
   "codemirror_mode": {
    "name": "ipython",
    "version": 3
   },
   "file_extension": ".py",
   "mimetype": "text/x-python",
   "name": "python",
   "nbconvert_exporter": "python",
   "pygments_lexer": "ipython3",
   "version": "3.12.4"
  }
 },
 "nbformat": 4,
 "nbformat_minor": 5
}
